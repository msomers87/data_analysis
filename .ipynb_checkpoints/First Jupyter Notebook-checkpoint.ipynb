{
 "cells": [
  {
   "cell_type": "code",
   "execution_count": 1,
   "id": "68a9b459",
   "metadata": {},
   "outputs": [],
   "source": [
    "import requests\n",
    "r = requests.get('https://api.census.gov/data/2020/acs/acs5?get=NAME,B08303_001E,B08303_013E&for=county:*&in=state:36')"
   ]
  },
  {
   "cell_type": "code",
   "execution_count": 2,
   "id": "900f841e",
   "metadata": {},
   "outputs": [
    {
     "name": "stdout",
     "output_type": "stream",
     "text": [
      "[[\"NAME\",\"B08303_001E\",\"state\"],\n",
      "[\"Pennsylvania\",\"5652158\",\"42\"],\n",
      "[\"California\",\"16710195\",\"06\"],\n",
      "[\"West Virginia\",\"697042\",\"54\"],\n",
      "[\"Utah\",\"1378826\",\"49\"],\n",
      "[\"New York\",\"8584828\",\"36\"],\n",
      "[\"District of Columbia\",\"332618\",\"11\"],\n",
      "[\"Alaska\",\"330203\",\"02\"],\n",
      "[\"Florida\",\"8817718\",\"12\"],\n",
      "[\"South Carolina\",\"2174285\",\"45\"],\n",
      "[\"North Dakota\",\"380227\",\"38\"],\n",
      "[\"Maine\",\"608861\",\"23\"],\n",
      "[\"Georgia\",\"4475685\",\"13\"],\n",
      "[\"Alabama\",\"2002359\",\"01\"],\n",
      "[\"New Hampshire\",\"656277\",\"33\"],\n",
      "[\"Oregon\",\"1790252\",\"41\"],\n",
      "[\"Wyoming\",\"267249\",\"56\"],\n",
      "[\"Arizona\",\"2897654\",\"04\"],\n",
      "[\"Louisiana\",\"1917930\",\"22\"],\n",
      "[\"Indiana\",\"2985939\",\"18\"],\n",
      "[\"Idaho\",\"744565\",\"16\"],\n",
      "[\"Connecticut\",\"1641807\",\"09\"],\n",
      "[\"Hawaii\",\"657643\",\"15\"],\n",
      "[\"Illinois\",\"5686627\",\"17\"],\n",
      "[\"Massachusetts\",\"3251466\",\"25\"],\n",
      "[\"Texas\",\"12371575\",\"48\"],\n",
      "[\"Montana\",\"471094\",\"30\"],\n",
      "[\"Nebraska\",\"928064\",\"31\"],\n",
      "[\"Ohio\",\"5163570\",\"39\"],\n",
      "[\"Colorado\",\"2604698\",\"08\"],\n",
      "[\"New Jersey\",\"4016070\",\"34\"],\n",
      "[\"Maryland\",\"2799889\",\"24\"],\n",
      "[\"Virginia\",\"3883690\",\"51\"],\n",
      "[\"Vermont\",\"292982\",\"50\"],\n",
      "[\"North Carolina\",\"4458769\",\"37\"],\n",
      "[\"Arkansas\",\"1238100\",\"05\"],\n",
      "[\"Washington\",\"3302637\",\"53\"],\n",
      "[\"Kansas\",\"1345103\",\"20\"],\n",
      "[\"Oklahoma\",\"1674019\",\"40\"],\n",
      "[\"Wisconsin\",\"2747826\",\"55\"],\n",
      "[\"Mississippi\",\"1193668\",\"28\"],\n",
      "[\"Missouri\",\"2707728\",\"29\"],\n",
      "[\"Michigan\",\"4288646\",\"26\"],\n",
      "[\"Rhode Island\",\"495214\",\"44\"],\n",
      "[\"Minnesota\",\"2654657\",\"27\"],\n",
      "[\"Iowa\",\"1482217\",\"19\"],\n",
      "[\"New Mexico\",\"829659\",\"35\"],\n",
      "[\"Nevada\",\"1321596\",\"32\"],\n",
      "[\"Delaware\",\"419600\",\"10\"],\n",
      "[\"Puerto Rico\",\"969379\",\"72\"],\n",
      "[\"Kentucky\",\"1858458\",\"21\"],\n",
      "[\"South Dakota\",\"411590\",\"46\"],\n",
      "[\"Tennessee\",\"2909026\",\"47\"]]\n"
     ]
    }
   ],
   "source": [
    "r_text = r.text\n",
    "\n",
    "print(r_text)"
   ]
  },
  {
   "cell_type": "code",
   "execution_count": 3,
   "id": "29ab3c03",
   "metadata": {},
   "outputs": [
    {
     "name": "stdout",
     "output_type": "stream",
     "text": [
      "[['NAME', 'B08303_001E', 'state'], ['Pennsylvania', '5652158', '42'], ['California', '16710195', '06'], ['West Virginia', '697042', '54'], ['Utah', '1378826', '49'], ['New York', '8584828', '36'], ['District of Columbia', '332618', '11'], ['Alaska', '330203', '02'], ['Florida', '8817718', '12'], ['South Carolina', '2174285', '45'], ['North Dakota', '380227', '38'], ['Maine', '608861', '23'], ['Georgia', '4475685', '13'], ['Alabama', '2002359', '01'], ['New Hampshire', '656277', '33'], ['Oregon', '1790252', '41'], ['Wyoming', '267249', '56'], ['Arizona', '2897654', '04'], ['Louisiana', '1917930', '22'], ['Indiana', '2985939', '18'], ['Idaho', '744565', '16'], ['Connecticut', '1641807', '09'], ['Hawaii', '657643', '15'], ['Illinois', '5686627', '17'], ['Massachusetts', '3251466', '25'], ['Texas', '12371575', '48'], ['Montana', '471094', '30'], ['Nebraska', '928064', '31'], ['Ohio', '5163570', '39'], ['Colorado', '2604698', '08'], ['New Jersey', '4016070', '34'], ['Maryland', '2799889', '24'], ['Virginia', '3883690', '51'], ['Vermont', '292982', '50'], ['North Carolina', '4458769', '37'], ['Arkansas', '1238100', '05'], ['Washington', '3302637', '53'], ['Kansas', '1345103', '20'], ['Oklahoma', '1674019', '40'], ['Wisconsin', '2747826', '55'], ['Mississippi', '1193668', '28'], ['Missouri', '2707728', '29'], ['Michigan', '4288646', '26'], ['Rhode Island', '495214', '44'], ['Minnesota', '2654657', '27'], ['Iowa', '1482217', '19'], ['New Mexico', '829659', '35'], ['Nevada', '1321596', '32'], ['Delaware', '419600', '10'], ['Puerto Rico', '969379', '72'], ['Kentucky', '1858458', '21'], ['South Dakota', '411590', '46'], ['Tennessee', '2909026', '47']]\n"
     ]
    }
   ],
   "source": [
    "r_json = r.json()\n",
    "print(r_json)"
   ]
  },
  {
   "cell_type": "code",
   "execution_count": null,
   "id": "1f6ad86f",
   "metadata": {},
   "outputs": [],
   "source": [
    "import csv\n"
   ]
  }
 ],
 "metadata": {
  "kernelspec": {
   "display_name": "Python 3 (ipykernel)",
   "language": "python",
   "name": "python3"
  },
  "language_info": {
   "codemirror_mode": {
    "name": "ipython",
    "version": 3
   },
   "file_extension": ".py",
   "mimetype": "text/x-python",
   "name": "python",
   "nbconvert_exporter": "python",
   "pygments_lexer": "ipython3",
   "version": "3.11.5"
  }
 },
 "nbformat": 4,
 "nbformat_minor": 5
}
